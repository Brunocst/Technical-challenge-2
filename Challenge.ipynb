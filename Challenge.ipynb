{
 "cells": [
  {
   "cell_type": "code",
   "execution_count": 1,
   "id": "f368d356",
   "metadata": {},
   "outputs": [],
   "source": [
    "import pandas as pd\n",
    "from sentence_transformers import SentenceTransformer, util\n",
    "\n",
    "pd.set_option('display.max_rows', 500)\n",
    "pd.set_option('display.max_columns', 500)\n",
    "pd.set_option('display.width', 1000)"
   ]
  },
  {
   "cell_type": "code",
   "execution_count": 2,
   "id": "b2e62271",
   "metadata": {},
   "outputs": [],
   "source": [
    "model = SentenceTransformer('all-MiniLM-L6-v2')\n",
    "\n",
    "abstract = pd.read_csv(\"C:/Users/ab1395612/Downloads/ex2/covid_abstracts.csv\")\n",
    "sentences = abstract.abstract.to_list()\n",
    "\n",
    "#Encode all sentences\n",
    "embeddings = model.encode(sentences)"
   ]
  },
  {
   "cell_type": "code",
   "execution_count": 25,
   "id": "656b303c",
   "metadata": {},
   "outputs": [
    {
     "data": {
      "application/vnd.jupyter.widget-view+json": {
       "model_id": "da54ff54593d4746a27643d7e3aaf601",
       "version_major": 2,
       "version_minor": 0
      },
      "text/plain": [
       "Batches:   0%|          | 0/313 [00:00<?, ?it/s]"
      ]
     },
     "metadata": {},
     "output_type": "display_data"
    }
   ],
   "source": [
    "paraphrases = util.paraphrase_mining(model, sentences, show_progress_bar=True, top_k=10000)"
   ]
  },
  {
   "cell_type": "code",
   "execution_count": 26,
   "id": "fa222cf5",
   "metadata": {},
   "outputs": [
    {
     "data": {
      "text/plain": [
       "2510    2926\n",
       "7505    8718\n",
       "243      283\n",
       "1664    1950\n",
       "5427    6282\n",
       "Name: phrase, dtype: int64"
      ]
     },
     "execution_count": 26,
     "metadata": {},
     "output_type": "execute_result"
    }
   ],
   "source": [
    "df_paraphrases = pd.DataFrame(paraphrases, columns=[\"sum\", \"phrase_1\", \"phrase_2\"])\n",
    "\n",
    "sentence_1 = df_paraphrases[['sum', 'phrase_1']]\n",
    "sentence_2 = df_paraphrases[['sum', 'phrase_2']]\n",
    "sentence_1.columns = ['sum', 'phrase']\n",
    "sentence_2.columns = ['sum', 'phrase']\n",
    "\n",
    "sentence = pd.concat([sentence_1, sentence_2])\n",
    "\n",
    "sentence = sentence[['phrase', 'sum']]\n",
    "\n",
    "ranking = sentence.groupby('phrase').sum().reset_index().sort_values(by=['sum'], ascending = False)\n",
    "\n",
    "ranking.phrase[0:5]"
   ]
  },
  {
   "cell_type": "code",
   "execution_count": 16,
   "id": "15585f7c",
   "metadata": {},
   "outputs": [
    {
     "data": {
      "text/html": [
       "<div>\n",
       "<style scoped>\n",
       "    .dataframe tbody tr th:only-of-type {\n",
       "        vertical-align: middle;\n",
       "    }\n",
       "\n",
       "    .dataframe tbody tr th {\n",
       "        vertical-align: top;\n",
       "    }\n",
       "\n",
       "    .dataframe thead th {\n",
       "        text-align: right;\n",
       "    }\n",
       "</style>\n",
       "<table border=\"1\" class=\"dataframe\">\n",
       "  <thead>\n",
       "    <tr style=\"text-align: right;\">\n",
       "      <th></th>\n",
       "      <th>title</th>\n",
       "      <th>abstract</th>\n",
       "      <th>url</th>\n",
       "    </tr>\n",
       "  </thead>\n",
       "  <tbody>\n",
       "    <tr>\n",
       "      <th>8718</th>\n",
       "      <td>The immunologic response to severe acute respi...</td>\n",
       "      <td>Background  The spread of severe acute respira...</td>\n",
       "      <td>https://pubmed.ncbi.nlm.nih.gov/34871157</td>\n",
       "    </tr>\n",
       "    <tr>\n",
       "      <th>283</th>\n",
       "      <td>Molecular and Clinical Aspects of COVID-19 Vac...</td>\n",
       "      <td>Coronavirus disease 2019  COVID-19  has overwh...</td>\n",
       "      <td>https://pubmed.ncbi.nlm.nih.gov/35002711</td>\n",
       "    </tr>\n",
       "    <tr>\n",
       "      <th>902</th>\n",
       "      <td>Mental health status of COVID-19 survivors  a ...</td>\n",
       "      <td>BACKGROUND  Coronavirus disease-19  COVID-19  ...</td>\n",
       "      <td>https://pubmed.ncbi.nlm.nih.gov/34991632</td>\n",
       "    </tr>\n",
       "    <tr>\n",
       "      <th>2926</th>\n",
       "      <td>A critical analysis of SARS-CoV-2  COVID-19  c...</td>\n",
       "      <td>Coronavirus is a family of viruses that can ca...</td>\n",
       "      <td>https://pubmed.ncbi.nlm.nih.gov/34959116</td>\n",
       "    </tr>\n",
       "    <tr>\n",
       "      <th>2962</th>\n",
       "      <td>A large-scale meta-analytic atlas of mental he...</td>\n",
       "      <td>The COVID-19 pandemic and related restrictions...</td>\n",
       "      <td>https://pubmed.ncbi.nlm.nih.gov/34958144</td>\n",
       "    </tr>\n",
       "  </tbody>\n",
       "</table>\n",
       "</div>"
      ],
      "text/plain": [
       "                                                  title                                           abstract                                       url\n",
       "8718  The immunologic response to severe acute respi...  Background  The spread of severe acute respira...  https://pubmed.ncbi.nlm.nih.gov/34871157\n",
       "283   Molecular and Clinical Aspects of COVID-19 Vac...  Coronavirus disease 2019  COVID-19  has overwh...  https://pubmed.ncbi.nlm.nih.gov/35002711\n",
       "902   Mental health status of COVID-19 survivors  a ...  BACKGROUND  Coronavirus disease-19  COVID-19  ...  https://pubmed.ncbi.nlm.nih.gov/34991632\n",
       "2926  A critical analysis of SARS-CoV-2  COVID-19  c...  Coronavirus is a family of viruses that can ca...  https://pubmed.ncbi.nlm.nih.gov/34959116\n",
       "2962  A large-scale meta-analytic atlas of mental he...  The COVID-19 pandemic and related restrictions...  https://pubmed.ncbi.nlm.nih.gov/34958144"
      ]
     },
     "execution_count": 16,
     "metadata": {},
     "output_type": "execute_result"
    }
   ],
   "source": [
    "# top10\n",
    "abstract.iloc[[8718, 283, 902, 2926, 2962], :]"
   ]
  },
  {
   "cell_type": "code",
   "execution_count": 24,
   "id": "1cbf6d33",
   "metadata": {},
   "outputs": [
    {
     "data": {
      "text/html": [
       "<div>\n",
       "<style scoped>\n",
       "    .dataframe tbody tr th:only-of-type {\n",
       "        vertical-align: middle;\n",
       "    }\n",
       "\n",
       "    .dataframe tbody tr th {\n",
       "        vertical-align: top;\n",
       "    }\n",
       "\n",
       "    .dataframe thead th {\n",
       "        text-align: right;\n",
       "    }\n",
       "</style>\n",
       "<table border=\"1\" class=\"dataframe\">\n",
       "  <thead>\n",
       "    <tr style=\"text-align: right;\">\n",
       "      <th></th>\n",
       "      <th>title</th>\n",
       "      <th>abstract</th>\n",
       "      <th>url</th>\n",
       "    </tr>\n",
       "  </thead>\n",
       "  <tbody>\n",
       "    <tr>\n",
       "      <th>2926</th>\n",
       "      <td>A critical analysis of SARS-CoV-2  COVID-19  c...</td>\n",
       "      <td>Coronavirus is a family of viruses that can ca...</td>\n",
       "      <td>https://pubmed.ncbi.nlm.nih.gov/34959116</td>\n",
       "    </tr>\n",
       "    <tr>\n",
       "      <th>8718</th>\n",
       "      <td>The immunologic response to severe acute respi...</td>\n",
       "      <td>Background  The spread of severe acute respira...</td>\n",
       "      <td>https://pubmed.ncbi.nlm.nih.gov/34871157</td>\n",
       "    </tr>\n",
       "    <tr>\n",
       "      <th>283</th>\n",
       "      <td>Molecular and Clinical Aspects of COVID-19 Vac...</td>\n",
       "      <td>Coronavirus disease 2019  COVID-19  has overwh...</td>\n",
       "      <td>https://pubmed.ncbi.nlm.nih.gov/35002711</td>\n",
       "    </tr>\n",
       "    <tr>\n",
       "      <th>1950</th>\n",
       "      <td>Convalescent plasma therapy against the emergi...</td>\n",
       "      <td>Coronavirus disease 2019  COVID-19  caused by ...</td>\n",
       "      <td>https://pubmed.ncbi.nlm.nih.gov/34974199</td>\n",
       "    </tr>\n",
       "    <tr>\n",
       "      <th>6282</th>\n",
       "      <td>Coinfections by SARS-CoV-2 and other respirato...</td>\n",
       "      <td>Background  SARS-CoV-2 is a coronavirus descri...</td>\n",
       "      <td>https://pubmed.ncbi.nlm.nih.gov/34908381</td>\n",
       "    </tr>\n",
       "  </tbody>\n",
       "</table>\n",
       "</div>"
      ],
      "text/plain": [
       "                                                  title                                           abstract                                       url\n",
       "2926  A critical analysis of SARS-CoV-2  COVID-19  c...  Coronavirus is a family of viruses that can ca...  https://pubmed.ncbi.nlm.nih.gov/34959116\n",
       "8718  The immunologic response to severe acute respi...  Background  The spread of severe acute respira...  https://pubmed.ncbi.nlm.nih.gov/34871157\n",
       "283   Molecular and Clinical Aspects of COVID-19 Vac...  Coronavirus disease 2019  COVID-19  has overwh...  https://pubmed.ncbi.nlm.nih.gov/35002711\n",
       "1950  Convalescent plasma therapy against the emergi...  Coronavirus disease 2019  COVID-19  caused by ...  https://pubmed.ncbi.nlm.nih.gov/34974199\n",
       "6282  Coinfections by SARS-CoV-2 and other respirato...  Background  SARS-CoV-2 is a coronavirus descri...  https://pubmed.ncbi.nlm.nih.gov/34908381"
      ]
     },
     "execution_count": 24,
     "metadata": {},
     "output_type": "execute_result"
    }
   ],
   "source": [
    "#top100\n",
    "abstract.iloc[[2926, 8718, 283, 1950, 6282], :]"
   ]
  },
  {
   "cell_type": "code",
   "execution_count": 21,
   "id": "1803cfd5",
   "metadata": {},
   "outputs": [
    {
     "data": {
      "text/html": [
       "<div>\n",
       "<style scoped>\n",
       "    .dataframe tbody tr th:only-of-type {\n",
       "        vertical-align: middle;\n",
       "    }\n",
       "\n",
       "    .dataframe tbody tr th {\n",
       "        vertical-align: top;\n",
       "    }\n",
       "\n",
       "    .dataframe thead th {\n",
       "        text-align: right;\n",
       "    }\n",
       "</style>\n",
       "<table border=\"1\" class=\"dataframe\">\n",
       "  <thead>\n",
       "    <tr style=\"text-align: right;\">\n",
       "      <th></th>\n",
       "      <th>title</th>\n",
       "      <th>abstract</th>\n",
       "      <th>url</th>\n",
       "    </tr>\n",
       "  </thead>\n",
       "  <tbody>\n",
       "    <tr>\n",
       "      <th>2926</th>\n",
       "      <td>A critical analysis of SARS-CoV-2  COVID-19  c...</td>\n",
       "      <td>Coronavirus is a family of viruses that can ca...</td>\n",
       "      <td>https://pubmed.ncbi.nlm.nih.gov/34959116</td>\n",
       "    </tr>\n",
       "    <tr>\n",
       "      <th>8718</th>\n",
       "      <td>The immunologic response to severe acute respi...</td>\n",
       "      <td>Background  The spread of severe acute respira...</td>\n",
       "      <td>https://pubmed.ncbi.nlm.nih.gov/34871157</td>\n",
       "    </tr>\n",
       "    <tr>\n",
       "      <th>283</th>\n",
       "      <td>Molecular and Clinical Aspects of COVID-19 Vac...</td>\n",
       "      <td>Coronavirus disease 2019  COVID-19  has overwh...</td>\n",
       "      <td>https://pubmed.ncbi.nlm.nih.gov/35002711</td>\n",
       "    </tr>\n",
       "    <tr>\n",
       "      <th>1950</th>\n",
       "      <td>Convalescent plasma therapy against the emergi...</td>\n",
       "      <td>Coronavirus disease 2019  COVID-19  caused by ...</td>\n",
       "      <td>https://pubmed.ncbi.nlm.nih.gov/34974199</td>\n",
       "    </tr>\n",
       "    <tr>\n",
       "      <th>6282</th>\n",
       "      <td>Coinfections by SARS-CoV-2 and other respirato...</td>\n",
       "      <td>Background  SARS-CoV-2 is a coronavirus descri...</td>\n",
       "      <td>https://pubmed.ncbi.nlm.nih.gov/34908381</td>\n",
       "    </tr>\n",
       "  </tbody>\n",
       "</table>\n",
       "</div>"
      ],
      "text/plain": [
       "                                                  title                                           abstract                                       url\n",
       "2926  A critical analysis of SARS-CoV-2  COVID-19  c...  Coronavirus is a family of viruses that can ca...  https://pubmed.ncbi.nlm.nih.gov/34959116\n",
       "8718  The immunologic response to severe acute respi...  Background  The spread of severe acute respira...  https://pubmed.ncbi.nlm.nih.gov/34871157\n",
       "283   Molecular and Clinical Aspects of COVID-19 Vac...  Coronavirus disease 2019  COVID-19  has overwh...  https://pubmed.ncbi.nlm.nih.gov/35002711\n",
       "1950  Convalescent plasma therapy against the emergi...  Coronavirus disease 2019  COVID-19  caused by ...  https://pubmed.ncbi.nlm.nih.gov/34974199\n",
       "6282  Coinfections by SARS-CoV-2 and other respirato...  Background  SARS-CoV-2 is a coronavirus descri...  https://pubmed.ncbi.nlm.nih.gov/34908381"
      ]
     },
     "execution_count": 21,
     "metadata": {},
     "output_type": "execute_result"
    }
   ],
   "source": [
    "#top500\n",
    "abstract.iloc[[2926, 8718, 283, 1950, 6282], :]"
   ]
  },
  {
   "cell_type": "code",
   "execution_count": 27,
   "id": "021a013c",
   "metadata": {},
   "outputs": [
    {
     "data": {
      "text/html": [
       "<div>\n",
       "<style scoped>\n",
       "    .dataframe tbody tr th:only-of-type {\n",
       "        vertical-align: middle;\n",
       "    }\n",
       "\n",
       "    .dataframe tbody tr th {\n",
       "        vertical-align: top;\n",
       "    }\n",
       "\n",
       "    .dataframe thead th {\n",
       "        text-align: right;\n",
       "    }\n",
       "</style>\n",
       "<table border=\"1\" class=\"dataframe\">\n",
       "  <thead>\n",
       "    <tr style=\"text-align: right;\">\n",
       "      <th></th>\n",
       "      <th>title</th>\n",
       "      <th>abstract</th>\n",
       "      <th>url</th>\n",
       "    </tr>\n",
       "  </thead>\n",
       "  <tbody>\n",
       "    <tr>\n",
       "      <th>2926</th>\n",
       "      <td>A critical analysis of SARS-CoV-2  COVID-19  c...</td>\n",
       "      <td>Coronavirus is a family of viruses that can ca...</td>\n",
       "      <td>https://pubmed.ncbi.nlm.nih.gov/34959116</td>\n",
       "    </tr>\n",
       "    <tr>\n",
       "      <th>8718</th>\n",
       "      <td>The immunologic response to severe acute respi...</td>\n",
       "      <td>Background  The spread of severe acute respira...</td>\n",
       "      <td>https://pubmed.ncbi.nlm.nih.gov/34871157</td>\n",
       "    </tr>\n",
       "    <tr>\n",
       "      <th>283</th>\n",
       "      <td>Molecular and Clinical Aspects of COVID-19 Vac...</td>\n",
       "      <td>Coronavirus disease 2019  COVID-19  has overwh...</td>\n",
       "      <td>https://pubmed.ncbi.nlm.nih.gov/35002711</td>\n",
       "    </tr>\n",
       "    <tr>\n",
       "      <th>1950</th>\n",
       "      <td>Convalescent plasma therapy against the emergi...</td>\n",
       "      <td>Coronavirus disease 2019  COVID-19  caused by ...</td>\n",
       "      <td>https://pubmed.ncbi.nlm.nih.gov/34974199</td>\n",
       "    </tr>\n",
       "    <tr>\n",
       "      <th>6282</th>\n",
       "      <td>Coinfections by SARS-CoV-2 and other respirato...</td>\n",
       "      <td>Background  SARS-CoV-2 is a coronavirus descri...</td>\n",
       "      <td>https://pubmed.ncbi.nlm.nih.gov/34908381</td>\n",
       "    </tr>\n",
       "  </tbody>\n",
       "</table>\n",
       "</div>"
      ],
      "text/plain": [
       "                                                  title                                           abstract                                       url\n",
       "2926  A critical analysis of SARS-CoV-2  COVID-19  c...  Coronavirus is a family of viruses that can ca...  https://pubmed.ncbi.nlm.nih.gov/34959116\n",
       "8718  The immunologic response to severe acute respi...  Background  The spread of severe acute respira...  https://pubmed.ncbi.nlm.nih.gov/34871157\n",
       "283   Molecular and Clinical Aspects of COVID-19 Vac...  Coronavirus disease 2019  COVID-19  has overwh...  https://pubmed.ncbi.nlm.nih.gov/35002711\n",
       "1950  Convalescent plasma therapy against the emergi...  Coronavirus disease 2019  COVID-19  caused by ...  https://pubmed.ncbi.nlm.nih.gov/34974199\n",
       "6282  Coinfections by SARS-CoV-2 and other respirato...  Background  SARS-CoV-2 is a coronavirus descri...  https://pubmed.ncbi.nlm.nih.gov/34908381"
      ]
     },
     "execution_count": 27,
     "metadata": {},
     "output_type": "execute_result"
    }
   ],
   "source": [
    "#top10000\n",
    "abstract.iloc[[2926, 8718, 283, 1950, 6282], :]"
   ]
  },
  {
   "cell_type": "code",
   "execution_count": null,
   "id": "73344b78",
   "metadata": {},
   "outputs": [],
   "source": []
  }
 ],
 "metadata": {
  "kernelspec": {
   "display_name": "Python 3",
   "language": "python",
   "name": "python3"
  },
  "language_info": {
   "codemirror_mode": {
    "name": "ipython",
    "version": 3
   },
   "file_extension": ".py",
   "mimetype": "text/x-python",
   "name": "python",
   "nbconvert_exporter": "python",
   "pygments_lexer": "ipython3",
   "version": "3.8.8"
  }
 },
 "nbformat": 4,
 "nbformat_minor": 5
}
